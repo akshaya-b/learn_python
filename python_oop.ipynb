{
 "cells": [
  {
   "cell_type": "code",
   "execution_count": 2,
   "metadata": {},
   "outputs": [
    {
     "data": {
      "text/plain": [
       "12"
      ]
     },
     "execution_count": 2,
     "metadata": {},
     "output_type": "execute_result"
    }
   ],
   "source": [
    "5+7"
   ]
  },
  {
   "cell_type": "code",
   "execution_count": 1,
   "metadata": {},
   "outputs": [],
   "source": [
    "import turtle\n",
    "a=turtle.Turtle()\n",
    "a.forward(100)\n",
    "a.right(40)\n",
    "a.forward(100)"
   ]
  },
  {
   "cell_type": "code",
   "execution_count": 11,
   "metadata": {},
   "outputs": [
    {
     "name": "stdout",
     "output_type": "stream",
     "text": [
      "acer\n",
      "desktop\n",
      "desktop\n",
      "lenovo\n",
      "y1\n",
      "uk\n",
      "False\n"
     ]
    }
   ],
   "source": [
    "class Pc:\n",
    "    system_type=\"laptop\"\n",
    "    def __init__(self,name,brand,mfc):\n",
    "        self.name=name\n",
    "        self.brand=brand\n",
    "        self.mfc=mfc\n",
    "    @classmethod\n",
    "    def set_system_type(cls,new_type):\n",
    "        cls.system_type=new_type\n",
    "    @classmethod\n",
    "    def split_name(clas,string_value):\n",
    "        first,second,third=string_value.split(\"-\")\n",
    "        return clas(first,second, third)\n",
    "    \n",
    "    @staticmethod\n",
    "    def week_day(day):\n",
    "        if day.weekday()==6 or day.weekday()==5:\n",
    "            return True\n",
    "        return False\n",
    "        \n",
    "\n",
    "a=Pc(\"nitro\",\"acer\",\"india\")\n",
    "b=Pc(\"inspiron\",'dell','taiwan')\n",
    "Pc.set_system_type(\"desktop\")   \n",
    "a1='y1-lenovo-uk'\n",
    "a1_instance=Pc.split_name(a1)\n",
    "\n",
    "import datetime\n",
    "day=datetime.date(2020,3,11)\n",
    "\n",
    "print(a.brand)\n",
    "print(b.system_type)\n",
    "print(Pc.system_type)\n",
    "print(a1_instance.brand)\n",
    "print(a1_instance.name)\n",
    "print(a1_instance.mfc)\n",
    "\n",
    "print(Pc.week_day(day))"
   ]
  },
  {
   "cell_type": "code",
   "execution_count": 22,
   "metadata": {},
   "outputs": [
    {
     "name": "stdout",
     "output_type": "stream",
     "text": [
      "500\n",
      "1500\n",
      "500\n",
      "1500\n"
     ]
    }
   ],
   "source": [
    "#inheritance\n",
    "class Sys:\n",
    "    avg_price=3\n",
    "    def __init__(self,name,price,body):\n",
    "        self.name=name\n",
    "        self.price=price\n",
    "        self.body=body\n",
    "        \n",
    "    def actual_price(self):\n",
    "        self.price= self.avg_price * self.price\n",
    "        \n",
    "class Laptop(Sys):\n",
    "    pass\n",
    "    #avg_price=5\n",
    "\n",
    "a=Laptop(\"mac\",500,\"metal\")\n",
    "print(a.price)\n",
    "a.actual_price()\n",
    "print(a.price)\n",
    "\n",
    "b=Sys(\"mac\",500,\"metal\")\n",
    "print(b.price)\n",
    "b.actual_price()\n",
    "print(b.price)\n"
   ]
  },
  {
   "cell_type": "code",
   "execution_count": 7,
   "metadata": {},
   "outputs": [
    {
     "name": "stdout",
     "output_type": "stream",
     "text": [
      "24\n"
     ]
    }
   ],
   "source": [
    "#__init__\n",
    "# only one __init__ method can be defined in the class.. if multiple __init__  is defined, \n",
    "#the class will consider only the last init as the true one.\n",
    "\n",
    "class Me:\n",
    "    def __init__(self, *args):\n",
    "        pass\n",
    "           \n",
    "    def __init__(self,name,age,weight):\n",
    "        self.name=name\n",
    "        self.age=age\n",
    "        self.weight=weight\n",
    "\n",
    "a=Me(\"akshaya\",24,56)\n",
    "print(a.age)\n",
    "        "
   ]
  },
  {
   "cell_type": "code",
   "execution_count": 18,
   "metadata": {},
   "outputs": [
    {
     "name": "stdout",
     "output_type": "stream",
     "text": [
      "100\n",
      "30000\n"
     ]
    }
   ],
   "source": [
    "#encapsulation---> __a : it is a private variable, can be used/accessed only inside class - it is used for encapsulation; \n",
    "# _a : it is a partially private variable;\n",
    "class Rect:\n",
    "    def __init__(self,length,width):\n",
    "        self.__length=length\n",
    "        self.__width=width\n",
    "    def set_length(self,length):\n",
    "        self.__length=length\n",
    "    def get_length(self):\n",
    "        return self.__length \n",
    "    def set_width(self,width):\n",
    "        self.__width=width\n",
    "    def get_width(self):\n",
    "        return self.__width\n",
    "\n",
    "    def calc_area(self):\n",
    "        return self.__length*self.__width\n",
    "\n",
    "a=Rect(100,300)\n",
    "a.__length=400 #has no effect\n",
    "print(a.get_length())\n",
    "print(a.calc_area())   \n",
    "    "
   ]
  },
  {
   "cell_type": "code",
   "execution_count": 24,
   "metadata": {},
   "outputs": [
    {
     "name": "stdout",
     "output_type": "stream",
     "text": [
      "public lotus-pink\n",
      "private lotus-pink\n"
     ]
    }
   ],
   "source": [
    "#private method--> can be accessed only inside the class\n",
    "class Flower:\n",
    "    def __init__(self,name,color):\n",
    "        self.__name=name\n",
    "        self.__color= color\n",
    "    \n",
    "    def public_func(self):\n",
    "        print(\"public \"+self.__name +\"-\"+self.__color )\n",
    "        self.__private_func()\n",
    "    \n",
    "    def __private_func(self):\n",
    "        print('private '+self.__name +\"-\"+self.__color)\n",
    "\n",
    "a=Flower(\"lotus\",\"pink\")\n",
    "a.public_func()\n",
    "#a.__private_func() #AttributeError: 'Flower' object has no attribute '__private_func'\n",
    "        \n",
    "        "
   ]
  },
  {
   "cell_type": "code",
   "execution_count": 36,
   "metadata": {},
   "outputs": [
    {
     "name": "stdout",
     "output_type": "stream",
     "text": [
      "red-rose\n"
     ]
    }
   ],
   "source": [
    "#inheritance with private class variable\n",
    "class Flower:\n",
    "#     __name=None\n",
    "#     __color=None\n",
    "    def set_att(self,name,color):\n",
    "        self.__name=name\n",
    "        self.__color=color    \n",
    "\n",
    "    def get_name(self):\n",
    "        return self.__name\n",
    "    def get_color(self):\n",
    "        return self.__color\n",
    "    \n",
    "class Rose(Flower):\n",
    "    def output(self):\n",
    "        return ((self.get_name()) +\"-\"+ (self.get_color()))\n",
    "\n",
    "class Lotus(Flower):\n",
    "    def output(self):\n",
    "        return ((self.get_name()) +\"-\"+ (self.get_color()))\n",
    "        #return self.__name +\"-\"+ self.__color---> throws error: 'Rose' object has no attribute '_Rose__name'\n",
    "\n",
    "\n",
    "r=Rose()\n",
    "r.set_att(\"red\",\"rose\")\n",
    "print(r.output())"
   ]
  },
  {
   "cell_type": "code",
   "execution_count": 39,
   "metadata": {},
   "outputs": [
    {
     "name": "stdout",
     "output_type": "stream",
     "text": [
      "hill-cool-TN-2k\n"
     ]
    }
   ],
   "source": [
    "#simple multiple inheritance: a child class inherits from 2 parent class\n",
    "class City:\n",
    "    __landscape=None\n",
    "    __weather=None\n",
    "    \n",
    "    def set_city(self,land,weat):\n",
    "        self.__landscape=land\n",
    "        self.__weather=weat\n",
    "    \n",
    "    def get_land(self):\n",
    "        return self.__landscape\n",
    "    def get_weat(self):\n",
    "        return self.__weather\n",
    "\n",
    "class Location:\n",
    "    __loc=None\n",
    "    __pop=None\n",
    "    \n",
    "    def set_location(self,loc,pop):\n",
    "        self.__loc=loc\n",
    "        self.__pop=pop\n",
    "    \n",
    "    def get_loc(self):\n",
    "        return self.__loc\n",
    "    def get_pop(self):\n",
    "        return self.__pop\n",
    "\n",
    "class Detail(City,Location):\n",
    "    def print_detail(self):\n",
    "        return (self.get_land() +\"-\"+ self.get_weat() +\"-\"+self.get_loc()+\"-\"+self.get_pop())\n",
    "\n",
    "d=Detail()\n",
    "d.set_city(\"hill\",\"cool\")\n",
    "d.set_location(\"TN\",\"2k\")\n",
    "print(d.print_detail())"
   ]
  },
  {
   "cell_type": "code",
   "execution_count": 69,
   "metadata": {},
   "outputs": [
    {
     "name": "stdout",
     "output_type": "stream",
     "text": [
      "inside parent 2 - 3-4\n",
      "inside parent 1 - 1-2\n",
      "1-2-3-4\n",
      "(<class '__main__.Detail'>, <class '__main__.Location'>, <class '__main__.City'>, <class 'object'>)\n"
     ]
    }
   ],
   "source": [
    "#super(): used in multiple inheritence to hit __init method from child class; the super always point to the parent\n",
    "#class that is mentioned first here.-->__init of Location class is considered first.\n",
    "class City:\n",
    "    def __init__(self,one,two):\n",
    "        self.one=one\n",
    "        self.two=two\n",
    "        print(\"inside parent 1 - \"+ self.one+\"-\"+self.two)\n",
    "\n",
    "class Location:\n",
    "    def __init__(self,three,four):\n",
    "        self.three=three\n",
    "        self.four=four\n",
    "        print(\"inside parent 2 - \"+ self.three +\"-\"+self.four)\n",
    "\n",
    "class Detail(Location,City):\n",
    "    def __init__(self,one,two,three,four):\n",
    "        super().__init__(one,two)\n",
    "        City.__init__(self,three,four)\n",
    "        \n",
    "    def print_detail(self):\n",
    "        return (self.one+\"-\"+self.two+\"-\"+self.three +\"-\"+self.four )\n",
    "\n",
    "d=Detail(\"3\",\"4\",\"1\",\"2\")\n",
    "print(d.print_detail())\n",
    "print(Detail.__mro__)"
   ]
  },
  {
   "cell_type": "code",
   "execution_count": 79,
   "metadata": {},
   "outputs": [
    {
     "name": "stdout",
     "output_type": "stream",
     "text": [
      "mik-1-200-1.9\n",
      "output of tot_sal(self) 380.0\n"
     ]
    }
   ],
   "source": [
    "#composition: it is used to delegate some of the work to other classes\n",
    "class Salary:\n",
    "    def __init__(self,pay,hike):\n",
    "        self.__pay=pay\n",
    "        self.__hike=hike        \n",
    "    def tot_sal(self):\n",
    "        return self.__pay*self.__hike\n",
    "    def get_pay(self):\n",
    "        return self.__pay\n",
    "    def get_hike(self):\n",
    "        return self.__hike\n",
    "        \n",
    "class Employee:\n",
    "    def __init__(self,name,idno,pay,hike):\n",
    "        self.__name=name\n",
    "        self.__idno=idno\n",
    "        self.salary_obj=Salary(pay,hike)\n",
    "    \n",
    "    def print_detail(self):\n",
    "        print(self.__name+\"-\"+ self.__idno +\"-\"+str(self.salary_obj.get_pay())+\"-\"+ str(self.salary_obj.get_hike()))\n",
    "\n",
    "e=Employee(\"mik\",\"1\",200,1.9)\n",
    "e.print_detail()\n",
    "print(\"output of tot_sal(self) \"+ str(e.salary_obj.tot_sal()))\n"
   ]
  },
  {
   "cell_type": "code",
   "execution_count": 85,
   "metadata": {},
   "outputs": [
    {
     "name": "stdout",
     "output_type": "stream",
     "text": [
      "red-9.0\n",
      "3 6\n"
     ]
    }
   ],
   "source": [
    "#aggregation: it is similar to composition except that in aggregation the salary  \n",
    "#object is created outside of the Employee class \n",
    "\n",
    "class Calc:\n",
    "    def __init__(self,l,w):\n",
    "        self.__l=l\n",
    "        self.__w=w\n",
    "    def get_value(self):\n",
    "        return (str(self.__l) +\" \"+ str(self.__w))\n",
    "    \n",
    "    def calc_method(self):\n",
    "        return self.__l*self.__w*1/2\n",
    "        \n",
    "class Triangle:\n",
    "    def __init__(self,color,calc_obj):\n",
    "        self.__color=color\n",
    "        self.calc_obj=calc_obj\n",
    "\n",
    "    def print_detail(self):\n",
    "        return print(self.__color +\"-\"+ str(self.calc_obj.calc_method())) #aggregattion\n",
    "\n",
    "calc_obj=Calc(3,6) #aggregattion\n",
    "t= Triangle(\"red\",calc_obj)\n",
    "t.print_detail()\n",
    "print(calc_obj.get_value())\n",
    "    "
   ]
  },
  {
   "cell_type": "code",
   "execution_count": 102,
   "metadata": {},
   "outputs": [
    {
     "name": "stdout",
     "output_type": "stream",
     "text": [
      "aki\n",
      "vish\n"
     ]
    }
   ],
   "source": [
    "from abc import ABC, abstractmethod\n",
    "\n",
    "class Abstractexample(ABC):\n",
    "\n",
    "    @abstractmethod\n",
    "    def show_name1():\n",
    "        pass\n",
    "        \n",
    "    @abstractmethod\n",
    "    def show_name2():\n",
    "        pass\n",
    "                \n",
    "class Childclass(Abstractexample):\n",
    "    def __init__(self,child1,child2):\n",
    "        self.child1=child1\n",
    "        self.child2=child2\n",
    "    def show_name1(self):\n",
    "        print(self.child1)\n",
    "    def show_name2(self):\n",
    "        print(self.child2)\n",
    "\n",
    "c=Childclass(\"aki\",\"vish\")\n",
    "c.show_name1() \n",
    "c.show_name2() \n",
    "        "
   ]
  },
  {
   "cell_type": "code",
   "execution_count": 157,
   "metadata": {},
   "outputs": [
    {
     "name": "stdout",
     "output_type": "stream",
     "text": [
      "normal function [4, 16, 36, 64]\n",
      "++++++++\n",
      "36\n",
      "49\n",
      "64\n",
      "81\n",
      "++++++++\n",
      "9\n",
      "49\n",
      "81\n",
      "25\n",
      "36\n"
     ]
    }
   ],
   "source": [
    "#generators: they are more efficient than normal list as they enhance the performance by increasing the speed and \n",
    "#by redusing the memory\n",
    "\n",
    "\n",
    "#normal function\n",
    "def func(list_a):\n",
    "    list_b=[]\n",
    "    for i in list_a:\n",
    "        list_b.append(i*i)\n",
    "    return list_b\n",
    "    \n",
    "list_a=[2,4,6,8]\n",
    "\n",
    "print(\"normal function {p}\".format(p=func(list_a)))   \n",
    "        \n",
    "\n",
    "print(\"++++++++\")\n",
    "#Generator:\n",
    "def gen1(list_a):\n",
    "    for i in list_a:\n",
    "       yield(i*i)\n",
    "\n",
    "list_a=gen1([6,7,8,9])\n",
    "\n",
    "for n in list_a:\n",
    "    print(n)\n",
    "\n",
    "print(\"++++++++\")\n",
    "# print(next(list_a))\n",
    "# print(next(list_a))\n",
    "# print(next(list_a))\n",
    "# print(next(list_a))\n",
    "\n",
    "#Generators using list comprehension: normal \n",
    "list_c=[3,7,9,5,6]\n",
    "x=(x*x for x in list_c) #list comprehension will look like:[x*x for x in list_c]\n",
    "\n",
    "for i in x:\n",
    "    print(i)"
   ]
  },
  {
   "cell_type": "code",
   "execution_count": 153,
   "metadata": {},
   "outputs": [
    {
     "name": "stdout",
     "output_type": "stream",
     "text": [
      "8\n",
      "MAP output :['ad', 'vl', 'np']\n",
      "Filter output :['fc', 'kliu']\n",
      "Reduce output :16\n"
     ]
    }
   ],
   "source": [
    "#Lambda: it is an anonymous function.. which is used in case a function is passed as an argument or function \n",
    "#is returned as a result.. eg: used in map,filter, reduce\n",
    "\n",
    "a=lambda x,y:x+y\n",
    "print(a(3,5))\n",
    "\n",
    "#MAP\n",
    "name_list1=[\"ak\",\"vi\",\"ne\",\"ch\"]\n",
    "name_list2=[\"dj\",\"lk\",\"pg\"]\n",
    "\n",
    "a=map(lambda x,y:x[0:1]+y[0:1], name_list1,name_list2)\n",
    "print(\"MAP output :{}\".format(list(a)))\n",
    "\n",
    "\n",
    "#FILTER\n",
    "list1=[\"abc\",\"hgk\",\"fc\",\"kliu\"]\n",
    "\n",
    "b= filter(lambda x: True if len(x)%2==0 else False, list1)\n",
    "print(\"Filter output :{}\".format(list(b)))\n",
    "\n",
    "#b= filter(lambda x,y: True if (x+y)%2==0 else False, list1,list2)---> this is not possible as filter takes only 2 arguments\n",
    "\n",
    "\n",
    "#REDUCE\n",
    "# from functools import reduce----> import reduce if other python IDE is used\n",
    "num_list=[1,2,3,4,6]\n",
    "\n",
    "c= reduce(lambda x,y:x+y, num_list)\n",
    "print(\"Reduce output :{}\".format(c))"
   ]
  },
  {
   "cell_type": "code",
   "execution_count": 11,
   "metadata": {},
   "outputs": [
    {
     "name": "stdout",
     "output_type": "stream",
     "text": [
      "157.07963267948966\n",
      "157.07963267948966\n",
      "False\n",
      "False\n",
      "True\n"
     ]
    }
   ],
   "source": [
    "#operator overloading\n",
    "import math\n",
    "class Circle:\n",
    "    def __init__(self,radius):\n",
    "        self.__radius=radius\n",
    "\n",
    "    def area(self):\n",
    "        return math.pi * self.__radius *self.__radius\n",
    "    \n",
    "    #operator overload\n",
    "    def __add__(self,circleobj):\n",
    "        return self.area()+circleobj.area()\n",
    "    \n",
    "    def __gt__(self,circleobj):\n",
    "        return self.__radius>circleobj.__radius\n",
    "    \n",
    "    def __lt__(self,circleobj):\n",
    "        return self.__radius<circleobj.__radius\n",
    "    \n",
    "    def __eq__(self,circleobj):\n",
    "        return self.area()==circleobj.area()\n",
    "    \n",
    "c1= Circle(5)\n",
    "c2=Circle(5)\n",
    "\n",
    "print(c1.area() + c2.area())\n",
    "\n",
    "print(c1+c2) #without __add__(), print(c1+c2) throws---->unsupported operand type(s) for +: 'Circle' and 'Circle'\n",
    "print(c1>c2)\n",
    "print(c2>c1)\n",
    "print(c1==c2)"
   ]
  }
 ],
 "metadata": {
  "kernelspec": {
   "display_name": "Python 3",
   "language": "python",
   "name": "python3"
  },
  "language_info": {
   "codemirror_mode": {
    "name": "ipython",
    "version": 3
   },
   "file_extension": ".py",
   "mimetype": "text/x-python",
   "name": "python",
   "nbconvert_exporter": "python",
   "pygments_lexer": "ipython3",
   "version": "3.7.4"
  }
 },
 "nbformat": 4,
 "nbformat_minor": 4
}
