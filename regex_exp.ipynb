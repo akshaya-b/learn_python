{
 "cells": [
  {
   "cell_type": "code",
   "execution_count": 5,
   "metadata": {},
   "outputs": [
    {
     "name": "stdout",
     "output_type": "stream",
     "text": [
      "present\n",
      "['Sit', 'Sit']\n",
      "['git', 'pit', 'git']\n",
      "['Hit', 'Sit', 'Sit']\n",
      "(0, 3)\n",
      "(16, 19)\n",
      "git-Hit-pit-Sit-github-Sitter\n",
      "20\n",
      "4\n",
      "3\n"
     ]
    }
   ],
   "source": [
    "#regex\n",
    "\n",
    "import re\n",
    "line=\"git Hit pit Sit github Sitter\"\n",
    "\n",
    "#search \n",
    "if re.search(\"hub\",line): #present\n",
    "    print(\"present\")\n",
    "else:\n",
    "    print(\"absent\")\n",
    "\n",
    "#findall\n",
    "print(re.findall(\"Sit\",line)) #['Sit', 'Sit']\n",
    "print(re.findall(\"[a-z]it\",line)) #['git', 'pit', 'git']\n",
    "print(re.findall(\"[^a-z]it\",line)) #['Hit', 'Sit', 'Sit']\n",
    "\n",
    "#finditer \n",
    "found=(re.finditer(\"git\",line))\n",
    "for i in found:\n",
    "    print(i.span()) #(0, 3) (16, 19)\n",
    "\n",
    "# replace using regex\n",
    "\n",
    "found=re.compile(\" \")\n",
    "line=found.sub(\"-\",line)\n",
    "\n",
    "print(line) #git-Hit-pit-Sit-github-Sitter\n",
    "\n",
    "number=\"12365 765 8543 897 54543\"\n",
    "print(len(re.findall(\"[\\d]\",number))) #20 prints list of all numbers\n",
    "print(len(re.findall(\"[\\D]\",number))) #4 prints all non numbers\n",
    "print(len(re.findall(\"[\\d](4)\",number))) #3 prints all the 4\n"
   ]
  },
  {
   "cell_type": "code",
   "execution_count": 6,
   "metadata": {},
   "outputs": [
    {
     "name": "stdout",
     "output_type": "stream",
     "text": [
      "ask.hgt@gmail.com\n"
     ]
    }
   ],
   "source": [
    "#[\\w]--> takes all the alphannum [a-zA-Z0-9]\n",
    "#[\\W]--> takes all the char except [a-zA-Z0-9]\n",
    "#[\\s]--> [\\n \\r \\t \\s \\f]\n",
    "#[\\S]--> takes all except [\\n \\r \\t \\s \\f]\n",
    "\n",
    "example=[\"ask.hgt@gmail.com\", \"dfe%jhhg@gmail.com\", \"jdbhhjdgg@ndfjfh\"]\n",
    "\n",
    "for i in example:\n",
    "    if (re.search(r\"(^[a-zA-Z0-9_.+-]+@[a-zA-Z0-9-]+\\.[a-zA-Z0-9-.]+$)\",i)):\n",
    "        print(i)\n",
    "        "
   ]
  }
 ],
 "metadata": {
  "kernelspec": {
   "display_name": "Python 3",
   "language": "python",
   "name": "python3"
  },
  "language_info": {
   "codemirror_mode": {
    "name": "ipython",
    "version": 3
   },
   "file_extension": ".py",
   "mimetype": "text/x-python",
   "name": "python",
   "nbconvert_exporter": "python",
   "pygments_lexer": "ipython3",
   "version": "3.7.4"
  }
 },
 "nbformat": 4,
 "nbformat_minor": 4
}
